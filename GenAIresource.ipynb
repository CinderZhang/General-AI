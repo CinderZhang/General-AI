{
 "cells": [
  {
   "cell_type": "markdown",
   "metadata": {},
   "source": [
    "# Data vs/and Model\n",
    "[Data centric or model centric](https://www.youtube.com/watch?v=06-AZXmwHjo)"
   ]
  },
  {
   "cell_type": "markdown",
   "metadata": {},
   "source": [
    "# Learning Source\n",
    "- [FastAI](https://course.fast.ai/)\n",
    "\n",
    "- [HuggingFace](https://huggingface.co/course/chapter1/1)\n",
    "\n",
    "- [DeepLearning](https://www.deeplearning.ai/programs/)\n",
    "\n",
    "- [Harvard Python](https://pll.harvard.edu/subject/python)"
   ]
  }
 ],
 "metadata": {
  "language_info": {
   "name": "python"
  },
  "orig_nbformat": 4
 },
 "nbformat": 4,
 "nbformat_minor": 2
}
